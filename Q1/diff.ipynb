{
 "cells": [
  {
   "cell_type": "code",
   "execution_count": 1,
   "metadata": {},
   "outputs": [],
   "source": [
    "import cv2 #importing the library"
   ]
  },
  {
   "cell_type": "code",
   "execution_count": 2,
   "metadata": {},
   "outputs": [],
   "source": [
    "#read the two images\n",
    "pic1 = cv2.imread(r'C:\\Users\\vrinda\\Desktop\\2nd sem\\CV\\diff1.jpg')\n",
    "pic2 = cv2.imread(r'C:\\Users\\vrinda\\Desktop\\2nd sem\\CV\\diff2.jpg')"
   ]
  },
  {
   "cell_type": "code",
   "execution_count": 3,
   "metadata": {},
   "outputs": [],
   "source": [
    "difference = cv2.absdiff(pic1,pic2) #computing absolute difference between two images "
   ]
  },
  {
   "cell_type": "code",
   "execution_count": 4,
   "metadata": {},
   "outputs": [],
   "source": [
    "cv2.imshow('Picture_1',pic1)\n",
    "cv2.imshow('Picture_2',pic2)\n",
    "cv2.imshow('Image difference are',difference)\n",
    "cv2.waitKey(0)#used to keep the windows displaying the images open until the user presses a key.\n",
    "cv2.destroyAllWindows()#Once a key is pressed, the windows are closed using cv2.destroyAllWindows()."
   ]
  }
 ],
 "metadata": {
  "kernelspec": {
   "display_name": "base",
   "language": "python",
   "name": "python3"
  },
  "language_info": {
   "codemirror_mode": {
    "name": "ipython",
    "version": 3
   },
   "file_extension": ".py",
   "mimetype": "text/x-python",
   "name": "python",
   "nbconvert_exporter": "python",
   "pygments_lexer": "ipython3",
   "version": "3.9.13"
  },
  "orig_nbformat": 4
 },
 "nbformat": 4,
 "nbformat_minor": 2
}
