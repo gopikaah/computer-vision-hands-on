{
 "cells": [
  {
   "cell_type": "code",
   "execution_count": 3,
   "metadata": {},
   "outputs": [],
   "source": [
    "# importing packages\n",
    "import cv2\n",
    "import numpy as np\n",
    "\n",
    "# Input image\n",
    "img = cv2.imread('D:\\duk\\SEM 2\\cv\\images\\duk.jpg', cv2.IMREAD_GRAYSCALE)\n",
    "\n",
    "# Creating SIFT detector\n",
    "sift = cv2.SIFT_create()\n",
    "\n",
    "# Detecting keypoints, computing descriptors\n",
    "keypoints, descriptors = sift.detectAndCompute(img, None)\n",
    "\n",
    "# Affine transformation matrix\n",
    "rows, cols = img.shape\n",
    "M = np.float32([[1, 0, 100], [0, 1, 50]])\n",
    "\n",
    "# Applying transformation\n",
    "transformed_keypoints = [cv2.KeyPoint(x=k.pt[0] + M[0][2], y=k.pt[1] + M[1][2], size=k.size, angle=k.angle, response=k.response, octave=k.octave, class_id=k.class_id) for k in keypoints]\n",
    "\n",
    "# Drawing keypoints\n",
    "transformed_img = cv2.warpAffine(img, M, (cols, rows)) # applying affine transformation to image using cv2.warpAffine() function\n",
    "transformed_img_with_keypoints = cv2.drawKeypoints(transformed_img, transformed_keypoints, None) # drawing transformed keypoints on image using cv2.drawKeypoints() function\n",
    "\n",
    "# output\n",
    "cv2.imshow('Transformed Image', transformed_img_with_keypoints)\n",
    "cv2.waitKey(0)\n",
    "cv2.destroyAllWindows()\n"
   ]
  },
  {
   "cell_type": "code",
   "execution_count": null,
   "metadata": {},
   "outputs": [],
   "source": []
  }
 ],
 "metadata": {
  "kernelspec": {
   "display_name": "Python 3",
   "language": "python",
   "name": "python3"
  },
  "language_info": {
   "codemirror_mode": {
    "name": "ipython",
    "version": 3
   },
   "file_extension": ".py",
   "mimetype": "text/x-python",
   "name": "python",
   "nbconvert_exporter": "python",
   "pygments_lexer": "ipython3",
   "version": "3.11.2"
  },
  "orig_nbformat": 4
 },
 "nbformat": 4,
 "nbformat_minor": 2
}
