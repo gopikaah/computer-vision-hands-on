{
 "cells": [
  {
   "cell_type": "code",
   "execution_count": 5,
   "metadata": {},
   "outputs": [],
   "source": [
    "import cv2\n",
    "import numpy as np\n",
    "\n",
    "# Load the image\n",
    "img = cv2.imread('F:\\DCIM\\Flipkart\\IMG-20220620-WA0051.jpg', cv2.IMREAD_GRAYSCALE)\n",
    "\n",
    "# Initialize the SIFT detector\n",
    "sift = cv2.SIFT_create()\n",
    "\n",
    "# Detect keypoints and compute descriptors for the original image\n",
    "keypoints1, descriptors1 = sift.detectAndCompute(img, None)\n",
    "\n",
    "# Define the affine transformation matrix\n",
    "rows, cols = img.shape\n",
    "M = np.float32([[1, 0, 100], [0, 1, 50]])\n",
    "\n",
    "# Apply the transformation to the original image\n",
    "transformed_img = cv2.warpAffine(img, M, (cols, rows))\n",
    "\n",
    "# Detect keypoints and compute descriptors for the transformed image\n",
    "keypoints2, descriptors2 = sift.detectAndCompute(transformed_img, None)\n",
    "\n",
    "# # Create a BFMatcher object\n",
    "# bf = cv2.BFMatcher()\n",
    "\n",
    "# # Match the descriptors from the original image and the transformed image\n",
    "# matches = bf.match(descriptors1, descriptors2)\n",
    "\n",
    "# # Draw the matched keypoints on the images\n",
    "# matched_img = cv2.drawMatches(img, keypoints1, transformed_img, keypoints2, matches[:10], None, flags=cv2.DrawMatchesFlags_NOT_DRAW_SINGLE_POINTS)\n",
    "\n",
    "# Display the result\n",
    "cv2.imshow('Original Image', img)\n",
    "cv2.imshow('Transformed Image', transformed_img)\n",
    "# cv2.imshow('Matched Keypoints', matched_img)\n",
    "cv2.waitKey(0)\n",
    "cv2.destroyAllWindows()\n"
   ]
  },
  {
   "cell_type": "code",
   "execution_count": 10,
   "metadata": {},
   "outputs": [],
   "source": [
    "import cv2\n",
    "import numpy as np\n",
    "\n",
    "# Load the image\n",
    "img = cv2.imread('F:\\DCIM\\Flipkart\\IMG-20220621-WA0041.jpg')\n",
    "\n",
    "# Convert to grayscale\n",
    "gray = cv2.cvtColor(img, cv2.COLOR_BGR2GRAY)\n",
    "\n",
    "# Initialize the SIFT detector\n",
    "sift = cv2.SIFT_create()\n",
    "\n",
    "# Detect keypoints and compute descriptors for the original image\n",
    "keypoints1, descriptors1 = sift.detectAndCompute(gray, None)\n",
    "\n",
    "# Define the affine transformation matrix\n",
    "rows, cols = gray.shape\n",
    "M = np.float32([[1, 0, 100], [0, 1, 100]])\n",
    "\n",
    "# Apply the transformation to the original image\n",
    "transformed_img = cv2.warpAffine(img, M, (cols, rows))\n",
    "\n",
    "# Convert the transformed image to grayscale\n",
    "gray_transformed = cv2.cvtColor(transformed_img, cv2.COLOR_BGR2GRAY)\n",
    "\n",
    "# Detect keypoints and compute descriptors for the transformed image\n",
    "keypoints2, descriptors2 = sift.detectAndCompute(gray_transformed, None)\n",
    "\n",
    "# Draw the detected keypoints on the images\n",
    "img_keypoints1 = cv2.drawKeypoints(gray, keypoints1, None)\n",
    "img_keypoints2 = cv2.drawKeypoints(gray_transformed, keypoints2, None)\n",
    "\n",
    "# Display the images with detected keypoints\n",
    "cv2.imshow('Original Image Keypoints', img_keypoints1)\n",
    "cv2.imshow('Transformed Image Keypoints', img_keypoints2)\n",
    "cv2.waitKey(0)\n",
    "cv2.destroyAllWindows()\n"
   ]
  },
  {
   "cell_type": "code",
   "execution_count": null,
   "metadata": {},
   "outputs": [],
   "source": []
  }
 ],
 "metadata": {
  "kernelspec": {
   "display_name": "Python 3",
   "language": "python",
   "name": "python3"
  },
  "language_info": {
   "codemirror_mode": {
    "name": "ipython",
    "version": 3
   },
   "file_extension": ".py",
   "mimetype": "text/x-python",
   "name": "python",
   "nbconvert_exporter": "python",
   "pygments_lexer": "ipython3",
   "version": "3.11.2"
  },
  "orig_nbformat": 4,
  "vscode": {
   "interpreter": {
    "hash": "bf34e87f2f4c5b220129050ccd8da277dd74a2957e9b2253e591c41d2056b42a"
   }
  }
 },
 "nbformat": 4,
 "nbformat_minor": 2
}
